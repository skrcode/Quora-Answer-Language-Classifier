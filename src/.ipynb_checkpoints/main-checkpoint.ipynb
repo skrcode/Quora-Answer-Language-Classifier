{
 "cells": [
  {
   "cell_type": "code",
   "execution_count": 246,
   "metadata": {
    "collapsed": false
   },
   "outputs": [],
   "source": [
    "import data_read \n",
    "import train_word2vec\n",
    "import vector_avg\n",
    "import get_sentences\n",
    "import centroid_bow\n",
    "import train\n",
    "import write_result"
   ]
  },
  {
   "cell_type": "code",
   "execution_count": 247,
   "metadata": {
    "collapsed": false
   },
   "outputs": [],
   "source": [
    "reload(data_read)\n",
    "\n",
    "X_train,X_test = data_read.do()\n",
    "\n",
    "\n"
   ]
  },
  {
   "cell_type": "code",
   "execution_count": 248,
   "metadata": {
    "collapsed": false
   },
   "outputs": [
    {
     "name": "stdout",
     "output_type": "stream",
     "text": [
      "Parsing sentences from test set\n",
      "Parsing sentences from train set\n"
     ]
    }
   ],
   "source": [
    "reload(get_sentences)\n",
    "train_sentences,test_sentences = get_sentences.do(X_train['review'],X_test['review'])"
   ]
  },
  {
   "cell_type": "code",
   "execution_count": 249,
   "metadata": {
    "collapsed": false
   },
   "outputs": [
    {
     "name": "stdout",
     "output_type": "stream",
     "text": [
      "Training model...\n",
      "Training complete..!!\n"
     ]
    }
   ],
   "source": [
    "reload(train_word2vec)\n",
    "model = train_word2vec.do(train_sentences)"
   ]
  },
  {
   "cell_type": "code",
   "execution_count": 231,
   "metadata": {
    "collapsed": false
   },
   "outputs": [
    {
     "name": "stdout",
     "output_type": "stream",
     "text": [
      "Time taken for K Means clustering:  1.18717694283 seconds.\n"
     ]
    }
   ],
   "source": [
    "reload(centroid_bow)\n",
    "train_centroids,test_centroids = centroid_bow.do(model,X_train,X_test)"
   ]
  },
  {
   "cell_type": "code",
   "execution_count": 244,
   "metadata": {
    "collapsed": false
   },
   "outputs": [],
   "source": [
    "reload(train)\n",
    "result = train.do(X_train,train_centroids,test_centroids)"
   ]
  },
  {
   "cell_type": "code",
   "execution_count": 233,
   "metadata": {
    "collapsed": false
   },
   "outputs": [],
   "source": [
    "reload(write_result)\n",
    "write_result.do(result,X_test)"
   ]
  },
  {
   "cell_type": "code",
   "execution_count": null,
   "metadata": {
    "collapsed": false
   },
   "outputs": [],
   "source": [
    "reload(run_test)\n",
    "result = run_test.compute_genre_test('Modi announced demonetisation of the indian e')\n",
    "print result"
   ]
  },
  {
   "cell_type": "code",
   "execution_count": 245,
   "metadata": {
    "collapsed": false
   },
   "outputs": [
    {
     "name": "stdout",
     "output_type": "stream",
     "text": [
      "0 10.5280565462\n",
      "1 9.24659654675\n",
      "2 10.0397224803\n",
      "3 22.0524696684\n",
      "4 17.5974323658\n",
      "5 32.7097805959\n",
      "6 9.23596176433\n",
      "7 17.5873201122\n",
      "8 42.5388711323\n",
      "9 9.3050526414\n",
      "10 15.2279485993\n",
      "11 10.765112277\n",
      "12 14.0365996009\n",
      "13 9.41925872673\n",
      "14 9.35705116432\n",
      "15 9.23596176433\n",
      "16 9.28714018083\n",
      "17 9.28873800982\n",
      "18 9.23596176433\n",
      "19 9.27645832787\n",
      "20 9.23596176433\n",
      "21 22.9056899477\n",
      "22 12.3793716375\n",
      "23 18.2830870686\n",
      "24 14.1157471559\n",
      "25 9.23596176433\n",
      "26 14.967153861\n",
      "27 11.3680346827\n",
      "28 9.23596176433\n",
      "29 9.29303713128\n",
      "30 13.5506421755\n",
      "31 17.4410443586\n",
      "32 9.56337749234\n",
      "33 9.26581583873\n",
      "34 12.2527030472\n",
      "35 19.6188837066\n",
      "36 15.1528858512\n",
      "37 12.5417142058\n",
      "38 14.5464756827\n",
      "39 9.27870623572\n",
      "40 13.9338353152\n",
      "41 15.9270485748\n",
      "42 9.34408673128\n",
      "43 12.1463724977\n",
      "44 9.64952726321\n",
      "45 17.2029256877\n",
      "46 10.5675653776\n",
      "47 14.0265846632\n",
      "48 9.2701788953\n",
      "49 9.25785123095\n"
     ]
    }
   ],
   "source": [
    "for i in range(50):\n",
    "    print i,result[i]"
   ]
  },
  {
   "cell_type": "code",
   "execution_count": 135,
   "metadata": {
    "collapsed": false
   },
   "outputs": [
    {
     "name": "stdout",
     "output_type": "stream",
     "text": [
      "Q :- Why are so many decent people single nowadays?\n",
      "\n",
      "A :- \n",
      "Because,\n",
      "\n",
      "Your school life just went by goofing around, studying or being interested in anything apart from dating.\n",
      "Even in this time, if you had a crush, neither you nor your crush approached each other for a date. Blinded by the charm of your crush, your marks wake you up.\n",
      "And your school life is done in studies, friends, wistful glances to your crush, results and a nice farewell.\n",
      "You enter college. You have forgotten your crush.\n",
      "Your are in relationship with your college assignments and supplementaries in different subjects are your soul mates.\n",
      "A separate college is your dating venue where you go quite a few times to clear misunderstandings of your low grades. :P\n",
      "Forget about date, your amazing marks can't even set a job for you.\n",
      "So, when college is over, the race to set your career starts. And you get more inclined in setting your job. The job takes up majority of your time leaving you only worthy of snoozing comfortably on weekends.\n",
      "Unless you find someone in college, it gets more and more difficult to find someone interesting in job.\n",
      "Half of the office is either married or already committed.\n",
      "Panic starts to set in. You want to feel the romance in your life. So you turn to dating sites.\n",
      "You go to tinder. And you are bombarded with ready to hook up people. The overwhelming freaking texts makes you ultimately uninstall it.\n",
      "Your friends are married. The few guys in your friend circle are committed. Even their other friend circle is full of married and committed people.\n",
      "You start mentally dating some celebs, fictional characters, TV characters. And the actors who play this.. Ironically, even those actors are either married or committed.\n",
      "Basically everyone around you is with someone, except you.\n",
      "Congratulations, Now you are 29 years old. You are the only single person in every job you switch. You have started loving this single-hood, as your friends start whining about relationships. So you decide to remain single. You have achieved your happily ever after in sleeping, eating and watching awesome series. (God, please bring GOT back soon.. :’( .. )\n",
      "Meanwhile, your parents are going crazy over matrimony sites. But you couldn’t care less, because you have learnt to live a single life, enjoying movies alone, not talking late nights and sleeping like a log. :P\n",
      "So this is the flowchart how decent people remain single these days. :P\n",
      "Edit : Adding few more points to the answer, as I couldn't recall them at that time.\n",
      "\n",
      "Answering Amrutha Shanbhag question what happens to these people later on :-\n",
      "\n",
      "(This is totally my thought process right now. This whole answer has been, actually.)\n",
      "\n",
      "Every day you are becoming more and more cynical about relationships and couples. As Gopalkrishna Vishwanath (Thank you sir. :) )rightly pointed out, you see couples, separating, recently married. You are looking for one happy couple, you personally know, but you fail to find.\n",
      "Every holiday spot is reserved for your marriage. “You can go to Goa with your husband. Why go with friends?”\n",
      "Your parents take you to a spiritual world. Every other day is some fast, every other plant is supposed to be given water to, early morning. All because, the neighbor’s daughter is getting married following these steps.\n",
      "Doing all this, you are asked to wholeheartedly ask for a nice life partner in your mind. But you end up asking a new job or a salary rise. :P\n",
      "You are slowly turning into a universal fault finding person. Every profile your parents put forward to you, is met with a dead glaze and poker face.\n",
      "Every random marriage news gets only one exclamation from your parents, “When will you get married. Now its scaring me, beta.”\n",
      "You feel shitty for giving them so much tension, so you take active interest in the profiles. But because you are shitty, the interest is only alive till your parents have not gone back to bed. They retire to sleep and you are back to watching serials. :P\n",
      "The fear of marriage has solidified in your mind. So, much that being rejected on matri sites is now giving you utmost happiness.\n",
      "An extremely good profile, is no longer elating you. It scares you , “Bloody hell, how do I reject him/her”\n",
      "Your parents are tired of this cycle. They get paranoid the moment you say “Not interested” to any profile. They ask you if you like someone. They even comment that you should have found someone in college for yourself. Ultimately it’s all our fault. *Much wow*\n",
      "There was a time when you had a crush on good looking people and would like to date them. Now you are a firm believer of “Just watch from distance and be happy. No need to get cozy”.\n",
      "Your parents, meanwhile, tell you to go to abroad for work (Indians love NRIs so by this logic, you’ll get married easily.) You wobble your head, clueless, and then and there the trip to abroad starts and ends. :P\n",
      "Ultimately, your goal to work outside your city is not because you are looking for growth. It’s to get out of this marriage mania. You have no idea, what will happen next, but you sure don’t want marriage/relationship to be next. So you are running and running till someone hunts you down.\n"
     ]
    }
   ],
   "source": [
    "print X_test.loc[5,'review']"
   ]
  },
  {
   "cell_type": "code",
   "execution_count": 78,
   "metadata": {
    "collapsed": false
   },
   "outputs": [
    {
     "name": "stdout",
     "output_type": "stream",
     "text": [
      "Once deleted, variables cannot be recovered. Proceed (y/[n])?  y\n"
     ]
    }
   ],
   "source": [
    "reset_selective train"
   ]
  },
  {
   "cell_type": "code",
   "execution_count": 236,
   "metadata": {
    "collapsed": false
   },
   "outputs": [
    {
     "name": "stdout",
     "output_type": "stream",
     "text": [
      " The unit of any society is a home in the very basic perspective. When the basics would not be strong how can the building be strong which is developed on those basics. This is the very same situation in modern societies, the family bonds are not that strong as they used to be resulting in the weakness in the society as a whole and a frustrated youth which can not play its part productively towards national growth. Topic 46 Qualities of a good son or daughter It is commonly known that parents expect to see their children behaving decently and respectfully. It is extremely important for parents to provide to their kids a clear explanation of what is bad and what is good. Hence, by having parents' support and advices, children could achieve the important qualities that later their parents could be proud of. In my opinion, the basic qualities of a being a good son or daughter have been remaining the same over years. The most important quality, I think, is that we should respect our parents. It was our parents who brought us into the world and brought us up. They provided us food and clothes, and send us to schools to be educated.\n"
     ]
    }
   ],
   "source": [
    "print X_train.loc[2600,'review']"
   ]
  },
  {
   "cell_type": "code",
   "execution_count": 169,
   "metadata": {
    "collapsed": false
   },
   "outputs": [
    {
     "data": {
      "text/plain": [
       "'u'"
      ]
     },
     "execution_count": 169,
     "metadata": {},
     "output_type": "execute_result"
    }
   ],
   "source": [
    "str[1]"
   ]
  },
  {
   "cell_type": "code",
   "execution_count": 187,
   "metadata": {
    "collapsed": false
   },
   "outputs": [],
   "source": [
    "from nltk.corpus import brown\n",
    "for genre in brown.categories():\n",
    "    article = brown.paras(categories=genre)\n",
    "    str = ''\n",
    "    for review in article:\n",
    "        for i in range(len(review)):\n",
    "            for j in range(len(review[i])):\n",
    "                str += (review[i][j] + ' ')\n",
    "        break\n",
    "    "
   ]
  },
  {
   "cell_type": "code",
   "execution_count": 225,
   "metadata": {
    "collapsed": false
   },
   "outputs": [],
   "source": [
    "import urllib2\n",
    "import requests\n",
    "from bs4 import BeautifulSoup\n",
    "url_to_scrape = 'http://www.englishdaily626.com/high_school_english_essays.php'\n",
    " \n",
    "r = requests.get(url_to_scrape)\n",
    " \n",
    "soup = BeautifulSoup(r.text)"
   ]
  },
  {
   "cell_type": "code",
   "execution_count": 226,
   "metadata": {
    "collapsed": false
   },
   "outputs": [
    {
     "name": "stdout",
     "output_type": "stream",
     "text": [
      "[]\n"
     ]
    }
   ],
   "source": [
    "print soup.find_all('<td width=\"100%\">')"
   ]
  },
  {
   "cell_type": "code",
   "execution_count": 284,
   "metadata": {
    "collapsed": false
   },
   "outputs": [
    {
     "data": {
      "text/plain": [
       "[(u'doing', 0.9275039434432983),\n",
       " (u'sir', 0.9059151411056519),\n",
       " (u'hari', 0.8916475176811218),\n",
       " (u'sorry', 0.8587826490402222),\n",
       " (u'going', 0.8486637473106384),\n",
       " (u'am', 0.8484687209129333),\n",
       " (u'yeah', 0.8434511423110962),\n",
       " (u'sure', 0.838713526725769),\n",
       " (u'talking', 0.8280359506607056),\n",
       " (u'you', 0.8230757713317871)]"
      ]
     },
     "execution_count": 284,
     "metadata": {},
     "output_type": "execute_result"
    }
   ],
   "source": [
    "model.most_similar('yes')"
   ]
  },
  {
   "cell_type": "code",
   "execution_count": 279,
   "metadata": {
    "collapsed": false
   },
   "outputs": [
    {
     "name": "stdout",
     "output_type": "stream",
     "text": [
      " He dragged us to court for ten days in a row, but Alok and I got no better. We found it hard enough to even spot where the ball had gone, let alone chase it. “Ryan, we can’t do this man,” Alok said plaintively, panting uncontrollably. “If you really want to play this, why don’t you find other partners?” “Why? You guys are getting better,” Ryan said. Yeah right, maybe in thirty years, I thought grimly. “So you don’t enjoy this?” What was Ryan thinking? Enjoy? Enjoy? I was in danger of tearing that ball into roughly fifty pieces. “Not really,” I ventured mildly. “Fine then, we don’t have to do this. I mean, I can give up squash,” Ryan said. “No, that is not…” Alok said.\n"
     ]
    }
   ],
   "source": [
    "print X_train.loc[100,'review']"
   ]
  },
  {
   "cell_type": "code",
   "execution_count": null,
   "metadata": {
    "collapsed": true
   },
   "outputs": [],
   "source": []
  }
 ],
 "metadata": {
  "anaconda-cloud": {},
  "kernelspec": {
   "display_name": "Python [Root]",
   "language": "python",
   "name": "Python [Root]"
  },
  "language_info": {
   "codemirror_mode": {
    "name": "ipython",
    "version": 2
   },
   "file_extension": ".py",
   "mimetype": "text/x-python",
   "name": "python",
   "nbconvert_exporter": "python",
   "pygments_lexer": "ipython2",
   "version": "2.7.12"
  }
 },
 "nbformat": 4,
 "nbformat_minor": 0
}
